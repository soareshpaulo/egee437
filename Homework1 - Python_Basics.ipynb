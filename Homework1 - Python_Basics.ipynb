{
 "cells": [
  {
   "cell_type": "markdown",
   "metadata": {},
   "source": [
    "<h1 align='center'> Very-Short Python Tutorial</h1><p>\n",
    "<h2 align='center'> To be used as a Python Intro for the PSU EGEE 437 Class </h2>\n",
    "<h3 align='center'> Paulo Soares </h3>\n",
    "<h4 align='center'> Original File: 2017. Updated on Feb, 2021 </h4>   "
   ]
  },
  {
   "cell_type": "markdown",
   "metadata": {},
   "source": [
    "<h2> Python Basics </h2><p>\n",
    "    This is a Jupyter Notebook. The Jupyter Notebook \"is an open-source web application that allows you to create and share documents that contain live code, equations, visualizations and narrative text. Uses include: data cleaning and transformation, numerical simulation, statistical modeling, data visualization, machine learning, and much more\"<p>\n",
    "\n",
    "[Jupyter Project](https://jupyter.org) <p>"
   ]
  },
  {
   "cell_type": "markdown",
   "metadata": {},
   "source": [
    "<font face=\"Courier\" color=\"green\" size=\"4\"><b>References</b><p>\n",
    "http://anh.cs.luc.edu//python/hands-on/3.1/handsonHtml/index.html#<p>\n",
    "\n",
    "\n",
    "Hint: To run a cell hit SHIFT+ENTER"
   ]
  },
  {
   "cell_type": "markdown",
   "metadata": {},
   "source": [
    "<h3>0. Load Required Packages</h3>"
   ]
  },
  {
   "cell_type": "code",
   "execution_count": 32,
   "metadata": {},
   "outputs": [
    {
     "name": "stdout",
     "output_type": "stream",
     "text": [
      "Populating the interactive namespace from numpy and matplotlib\n"
     ]
    }
   ],
   "source": [
    "import numpy as np # \"NumPy is the fundamental package for scientific computing with Python.\" np is how you call the package\n",
    "import matplotlib.pyplot as plt # \"Matplotlib is a Python 2D plotting library which produces publication quality figures...\"\n",
    "import sys #Information about the system\n",
    "\n",
    "%pylab inline\n",
    "#Graphs are shown below the code cell instead in a new window."
   ]
  },
  {
   "cell_type": "code",
   "execution_count": 33,
   "metadata": {},
   "outputs": [
    {
     "name": "stdout",
     "output_type": "stream",
     "text": [
      "3.8.5 (default, Sep  3 2020, 21:29:08) [MSC v.1916 64 bit (AMD64)]\n"
     ]
    }
   ],
   "source": [
    "print (sys.version) # Checks which version of Python you're using (and Anaconda, if you're using it)."
   ]
  },
  {
   "cell_type": "markdown",
   "metadata": {},
   "source": [
    "<h3> 1. Functions and Types</h3><p>\n",
    "    Here we start to understand the basics of Python. How to print text, and the input types recognized by the language <p>\n",
    "<i> Type Options: \n",
    "<ul>\n",
    "<li> int, float, long, complex </li>\n",
    "<li> str </li>\n",
    "<li> bytes </li>\n",
    "<li> tuple </li>\n",
    "<li> frozen set </li>\n",
    "<li> Boolean </li>\n",
    "<li> array </li>\n",
    "</ul>"
   ]
  },
  {
   "cell_type": "code",
   "execution_count": 3,
   "metadata": {},
   "outputs": [
    {
     "name": "stdout",
     "output_type": "stream",
     "text": [
      "Hello World!\n"
     ]
    }
   ],
   "source": [
    "# The symbol '#' is understood as a comment\n",
    "# Let's print a simple 'Hello World!'\n",
    "# Note that text must be in between quotation marks ('') to be recognized as text\n",
    "\n",
    "print('Hello World!')"
   ]
  },
  {
   "cell_type": "code",
   "execution_count": 2,
   "metadata": {},
   "outputs": [
    {
     "data": {
      "text/plain": [
       "int"
      ]
     },
     "execution_count": 2,
     "metadata": {},
     "output_type": "execute_result"
    }
   ],
   "source": [
    "# The type function tells the user what kind of input we are dealing with\n",
    "# In this case we have an integer\n",
    "\n",
    "type(5)"
   ]
  },
  {
   "cell_type": "code",
   "execution_count": 4,
   "metadata": {},
   "outputs": [
    {
     "data": {
      "text/plain": [
       "float"
      ]
     },
     "execution_count": 4,
     "metadata": {},
     "output_type": "execute_result"
    }
   ],
   "source": [
    "# And this operation returns a float - a number that is not an integer\n",
    "\n",
    "type(7/2)"
   ]
  },
  {
   "cell_type": "code",
   "execution_count": 5,
   "metadata": {},
   "outputs": [
    {
     "data": {
      "text/plain": [
       "float"
      ]
     },
     "execution_count": 5,
     "metadata": {},
     "output_type": "execute_result"
    }
   ],
   "source": [
    "# The result of previous operation is not an integer!\n",
    "\n",
    "type(3.5)"
   ]
  },
  {
   "cell_type": "code",
   "execution_count": 6,
   "metadata": {},
   "outputs": [
    {
     "data": {
      "text/plain": [
       "str"
      ]
     },
     "execution_count": 6,
     "metadata": {},
     "output_type": "execute_result"
    }
   ],
   "source": [
    "# Characters (text) are understood as strings - str for short\n",
    "\n",
    "type('300')"
   ]
  },
  {
   "cell_type": "code",
   "execution_count": 9,
   "metadata": {},
   "outputs": [
    {
     "data": {
      "text/plain": [
       "str"
      ]
     },
     "execution_count": 9,
     "metadata": {},
     "output_type": "execute_result"
    }
   ],
   "source": [
    "type(\"Hello World\")"
   ]
  },
  {
   "cell_type": "code",
   "execution_count": 10,
   "metadata": {},
   "outputs": [
    {
     "data": {
      "text/plain": [
       "3"
      ]
     },
     "execution_count": 10,
     "metadata": {},
     "output_type": "execute_result"
    }
   ],
   "source": [
    "# We can work with a list. \n",
    "# A list is composed of data points between [] and separated by commas\n",
    "# Python can understand lists directly:\n",
    "\n",
    "[2, 4, 6]"
   ]
  },
  {
   "cell_type": "code",
   "execution_count": 8,
   "metadata": {},
   "outputs": [
    {
     "data": {
      "text/plain": [
       "3"
      ]
     },
     "execution_count": 8,
     "metadata": {},
     "output_type": "execute_result"
    }
   ],
   "source": [
    "# The command len returns the number of elements within a given list:\n",
    "len([2, 4, 6])"
   ]
  },
  {
   "cell_type": "code",
   "execution_count": 9,
   "metadata": {},
   "outputs": [
    {
     "data": {
      "text/plain": [
       "4"
      ]
     },
     "execution_count": 9,
     "metadata": {},
     "output_type": "execute_result"
    }
   ],
   "source": [
    "# And it can also be used for strings\n",
    "\n",
    "len('abcd')"
   ]
  },
  {
   "cell_type": "code",
   "execution_count": 11,
   "metadata": {},
   "outputs": [
    {
     "name": "stdout",
     "output_type": "stream",
     "text": [
      "7\n"
     ]
    }
   ],
   "source": [
    "#Play time! Can you guess what is going on?\n",
    "\n",
    "print(len('abcd') + len([2, 4, 6]))"
   ]
  },
  {
   "cell_type": "code",
   "execution_count": 12,
   "metadata": {},
   "outputs": [
    {
     "data": {
      "text/plain": [
       "300"
      ]
     },
     "execution_count": 12,
     "metadata": {},
     "output_type": "execute_result"
    }
   ],
   "source": [
    "# We can convert strings that are number in form of text back to numbers\n",
    "\n",
    "int('300')"
   ]
  },
  {
   "cell_type": "code",
   "execution_count": 13,
   "metadata": {},
   "outputs": [
    {
     "ename": "ValueError",
     "evalue": "invalid literal for int() with base 10: 'hello'",
     "output_type": "error",
     "traceback": [
      "\u001b[1;31m---------------------------------------------------------------------------\u001b[0m",
      "\u001b[1;31mValueError\u001b[0m                                Traceback (most recent call last)",
      "\u001b[1;32m<ipython-input-13-640dc9524bc2>\u001b[0m in \u001b[0;36m<module>\u001b[1;34m\u001b[0m\n\u001b[0;32m      1\u001b[0m \u001b[1;31m# But not the inverse\u001b[0m\u001b[1;33m\u001b[0m\u001b[1;33m\u001b[0m\u001b[1;33m\u001b[0m\u001b[0m\n\u001b[0;32m      2\u001b[0m \u001b[1;33m\u001b[0m\u001b[0m\n\u001b[1;32m----> 3\u001b[1;33m \u001b[0mint\u001b[0m\u001b[1;33m(\u001b[0m\u001b[1;34m'hello'\u001b[0m\u001b[1;33m)\u001b[0m\u001b[1;33m\u001b[0m\u001b[1;33m\u001b[0m\u001b[0m\n\u001b[0m",
      "\u001b[1;31mValueError\u001b[0m: invalid literal for int() with base 10: 'hello'"
     ]
    }
   ],
   "source": [
    "# But not the inverse\n",
    "\n",
    "int('hello')"
   ]
  },
  {
   "cell_type": "code",
   "execution_count": 14,
   "metadata": {},
   "outputs": [
    {
     "data": {
      "text/plain": [
       "'300'"
      ]
     },
     "execution_count": 14,
     "metadata": {},
     "output_type": "execute_result"
    }
   ],
   "source": [
    "# It is even possible to convert numbers into text - strings\n",
    "\n",
    "str(300)"
   ]
  },
  {
   "cell_type": "code",
   "execution_count": 15,
   "metadata": {},
   "outputs": [
    {
     "data": {
      "text/plain": [
       "11"
      ]
     },
     "execution_count": 15,
     "metadata": {},
     "output_type": "execute_result"
    }
   ],
   "source": [
    "# Self-explanatory. Try changing max for min\n",
    "\n",
    "max(5, 11, 2)"
   ]
  },
  {
   "cell_type": "markdown",
   "metadata": {},
   "source": [
    "<h3> 2. Simple Calculations</h3><p>"
   ]
  },
  {
   "cell_type": "code",
   "execution_count": 18,
   "metadata": {},
   "outputs": [
    {
     "data": {
      "text/plain": [
       "14"
      ]
     },
     "execution_count": 18,
     "metadata": {},
     "output_type": "execute_result"
    }
   ],
   "source": [
    "7+7"
   ]
  },
  {
   "cell_type": "code",
   "execution_count": 19,
   "metadata": {},
   "outputs": [
    {
     "data": {
      "text/plain": [
       "98"
      ]
     },
     "execution_count": 19,
     "metadata": {},
     "output_type": "execute_result"
    }
   ],
   "source": [
    "14*7"
   ]
  },
  {
   "cell_type": "code",
   "execution_count": 20,
   "metadata": {},
   "outputs": [
    {
     "data": {
      "text/plain": [
       "0"
      ]
     },
     "execution_count": 20,
     "metadata": {},
     "output_type": "execute_result"
    }
   ],
   "source": [
    "98-(14*7)"
   ]
  },
  {
   "cell_type": "code",
   "execution_count": 31,
   "metadata": {},
   "outputs": [
    {
     "data": {
      "text/plain": [
       "7.0"
      ]
     },
     "execution_count": 31,
     "metadata": {},
     "output_type": "execute_result"
    }
   ],
   "source": [
    "14/2"
   ]
  },
  {
   "cell_type": "code",
   "execution_count": 21,
   "metadata": {},
   "outputs": [
    {
     "data": {
      "text/plain": [
       "4.666666666666667"
      ]
     },
     "execution_count": 21,
     "metadata": {},
     "output_type": "execute_result"
    }
   ],
   "source": [
    "14/3"
   ]
  },
  {
   "cell_type": "code",
   "execution_count": 23,
   "metadata": {},
   "outputs": [
    {
     "data": {
      "text/plain": [
       "4"
      ]
     },
     "execution_count": 23,
     "metadata": {},
     "output_type": "execute_result"
    }
   ],
   "source": [
    "14//3 # Only the integer quotient"
   ]
  },
  {
   "cell_type": "code",
   "execution_count": 24,
   "metadata": {},
   "outputs": [
    {
     "data": {
      "text/plain": [
       "2"
      ]
     },
     "execution_count": 24,
     "metadata": {},
     "output_type": "execute_result"
    }
   ],
   "source": [
    "14%3 # The reminder"
   ]
  },
  {
   "cell_type": "code",
   "execution_count": 25,
   "metadata": {},
   "outputs": [
    {
     "data": {
      "text/plain": [
       "0"
      ]
     },
     "execution_count": 25,
     "metadata": {},
     "output_type": "execute_result"
    }
   ],
   "source": [
    "2^2 #this is a bitwise operation"
   ]
  },
  {
   "cell_type": "code",
   "execution_count": 26,
   "metadata": {},
   "outputs": [
    {
     "data": {
      "text/plain": [
       "4"
      ]
     },
     "execution_count": 26,
     "metadata": {},
     "output_type": "execute_result"
    }
   ],
   "source": [
    "2**2 #this is how one should write our familiar 2^2 = 4"
   ]
  },
  {
   "cell_type": "markdown",
   "metadata": {},
   "source": [
    "<h3>3. Assigning Names to Variables</h3><p>\n",
    "    Let's say we want to compute the area of a rectangle. The rectangle is 12 inches wide by 10 inches in height"
   ]
  },
  {
   "cell_type": "code",
   "execution_count": 16,
   "metadata": {},
   "outputs": [],
   "source": [
    "#Width = w\n",
    "\n",
    "w = 12"
   ]
  },
  {
   "cell_type": "code",
   "execution_count": 17,
   "metadata": {},
   "outputs": [],
   "source": [
    "# Height = h\n",
    "\n",
    "h = 10"
   ]
  },
  {
   "cell_type": "code",
   "execution_count": 22,
   "metadata": {},
   "outputs": [
    {
     "name": "stdout",
     "output_type": "stream",
     "text": [
      "The area of the rectangle is  120  sq. inches\n"
     ]
    }
   ],
   "source": [
    "#Now we calculate the area\n",
    "# Note how I can print this information: area become a value once the calculation is done\n",
    "\n",
    "area = w*h\n",
    "print('The area of the rectangle is ', area,' sq. inches')  "
   ]
  },
  {
   "cell_type": "code",
   "execution_count": 24,
   "metadata": {},
   "outputs": [
    {
     "name": "stdout",
     "output_type": "stream",
     "text": [
      "Half of the area of the rectangle is  60.0  sq. inches\n"
     ]
    }
   ],
   "source": [
    "#Suppose we wanted to calculate half of the area (for some reason):\n",
    "\n",
    "area = (w*h)/2\n",
    "print('Half of the area of the rectangle is ', area,' sq. inches') "
   ]
  },
  {
   "cell_type": "code",
   "execution_count": 26,
   "metadata": {},
   "outputs": [
    {
     "data": {
      "text/plain": [
       "60.0"
      ]
     },
     "execution_count": 26,
     "metadata": {},
     "output_type": "execute_result"
    }
   ],
   "source": [
    "# Now the last \"area\" is the only \"area\" stored in the memory\n",
    "# To avoid this problem we must assign different names to the variables\n",
    "\n",
    "area "
   ]
  },
  {
   "cell_type": "markdown",
   "metadata": {},
   "source": [
    "<h3>4. Lists and Arrays</h3>"
   ]
  },
  {
   "cell_type": "code",
   "execution_count": 27,
   "metadata": {},
   "outputs": [],
   "source": [
    "a = [1,2,3,4,5,6] #this is a list"
   ]
  },
  {
   "cell_type": "code",
   "execution_count": 29,
   "metadata": {},
   "outputs": [
    {
     "data": {
      "text/plain": [
       "[1, 2, 3, 4, 5, 6, 1, 2, 3, 4, 5, 6]"
      ]
     },
     "execution_count": 29,
     "metadata": {},
     "output_type": "execute_result"
    }
   ],
   "source": [
    "# A list is different from and array (a vector) - so when we multiply a list, you have:\n",
    "\n",
    "2*a"
   ]
  },
  {
   "cell_type": "code",
   "execution_count": 34,
   "metadata": {},
   "outputs": [
    {
     "ename": "TypeError",
     "evalue": "unsupported operand type(s) for ** or pow(): 'list' and 'int'",
     "output_type": "error",
     "traceback": [
      "\u001b[1;31m---------------------------------------------------------------------------\u001b[0m",
      "\u001b[1;31mTypeError\u001b[0m                                 Traceback (most recent call last)",
      "\u001b[1;32m<ipython-input-34-2d8a435416e2>\u001b[0m in \u001b[0;36m<module>\u001b[1;34m\u001b[0m\n\u001b[0;32m      1\u001b[0m \u001b[1;31m# And it does not make much sense to try to elevate the list to a certain power\u001b[0m\u001b[1;33m\u001b[0m\u001b[1;33m\u001b[0m\u001b[1;33m\u001b[0m\u001b[0m\n\u001b[0;32m      2\u001b[0m \u001b[1;33m\u001b[0m\u001b[0m\n\u001b[1;32m----> 3\u001b[1;33m \u001b[0ma\u001b[0m\u001b[1;33m**\u001b[0m\u001b[1;36m2\u001b[0m \u001b[1;31m#you can't perform this operation with a list\u001b[0m\u001b[1;33m\u001b[0m\u001b[1;33m\u001b[0m\u001b[0m\n\u001b[0m",
      "\u001b[1;31mTypeError\u001b[0m: unsupported operand type(s) for ** or pow(): 'list' and 'int'"
     ]
    }
   ],
   "source": [
    "# And it does not make much sense to try to elevate the list to a certain power\n",
    "\n",
    "a**2 #you can't perform this operation with a list"
   ]
  },
  {
   "cell_type": "code",
   "execution_count": 35,
   "metadata": {},
   "outputs": [],
   "source": [
    "# But we can convert the list into an array\n",
    "\n",
    "b = np.array(a) "
   ]
  },
  {
   "cell_type": "code",
   "execution_count": 36,
   "metadata": {},
   "outputs": [
    {
     "data": {
      "text/plain": [
       "array([ 1,  4,  9, 16, 25, 36], dtype=int32)"
      ]
     },
     "execution_count": 36,
     "metadata": {},
     "output_type": "execute_result"
    }
   ],
   "source": [
    "b**2 #you can do all sorts of operations with arrays. Note there is no .** as would have .^ in Matlab"
   ]
  },
  {
   "cell_type": "code",
   "execution_count": 37,
   "metadata": {},
   "outputs": [
    {
     "data": {
      "text/plain": [
       "array([ 2,  4,  6,  8, 10, 12])"
      ]
     },
     "execution_count": 37,
     "metadata": {},
     "output_type": "execute_result"
    }
   ],
   "source": [
    "2*b"
   ]
  },
  {
   "cell_type": "code",
   "execution_count": 41,
   "metadata": {},
   "outputs": [
    {
     "data": {
      "text/plain": [
       "array([ True,  True,  True,  True,  True,  True])"
      ]
     },
     "execution_count": 41,
     "metadata": {},
     "output_type": "execute_result"
    }
   ],
   "source": [
    "# Python allow us to compare the values of the array with those in the list\n",
    "\n",
    "b == a "
   ]
  },
  {
   "cell_type": "code",
   "execution_count": 48,
   "metadata": {},
   "outputs": [],
   "source": [
    "c = array([1,2,4,5,6,7]) #Creating an array"
   ]
  },
  {
   "cell_type": "markdown",
   "metadata": {},
   "source": [
    "<h3>5. Input and Output</h3>"
   ]
  },
  {
   "cell_type": "code",
   "execution_count": 52,
   "metadata": {},
   "outputs": [
    {
     "name": "stdin",
     "output_type": "stream",
     "text": [
      "Enter your name:  Paulo\n"
     ]
    },
    {
     "name": "stdout",
     "output_type": "stream",
     "text": [
      "Hello Paulo!\n"
     ]
    }
   ],
   "source": [
    "# The input command is useful when we need the user to input a value (or some values)\n",
    "\n",
    "person = input('Enter your name: ')\n",
    "print('Hello', person+'!')"
   ]
  },
  {
   "cell_type": "code",
   "execution_count": 46,
   "metadata": {},
   "outputs": [
    {
     "name": "stdout",
     "output_type": "stream",
     "text": [
      "Enter the applicant's name: Nathanael\n",
      "Enter the interviewer's name: Edson\n",
      "Enter the appointment time: 5pm\n",
      "Edson will interview Nathanael at 5pm\n"
     ]
    }
   ],
   "source": [
    "'''Illustrate input and print.'''\n",
    "\n",
    "applicant = input(\"Enter the applicant's name: \")\n",
    "interviewer = input(\"Enter the interviewer's name: \")\n",
    "time = input(\"Enter the appointment time: \")\n",
    "print(interviewer, \"will interview\", applicant, \"at\", time)"
   ]
  },
  {
   "cell_type": "markdown",
   "metadata": {},
   "source": [
    "<h3>6. EGEE 437 HOMEWORK 1</h3>"
   ]
  },
  {
   "cell_type": "markdown",
   "metadata": {},
   "source": [
    "<h4>Question 5</h4> <b> Copy and paste your Python code to the LaTex template to get credits!</b> <p> \n",
    "    We can convert wavelength (nm) into energy (eV). Compile a short code to answer the following questions: <p>\n"
   ]
  },
  {
   "cell_type": "markdown",
   "metadata": {},
   "source": [
    "<b>a.</b> UV-C light is a type of shortwave light coming from the Sun that is almost totally filtered by the Earth's atmosphere. The UV-C light band ranges from 100 - 280 nm. What is the energy (in eV) contained in a UV-C ray with 150 nm?"
   ]
  },
  {
   "cell_type": "code",
   "execution_count": null,
   "metadata": {},
   "outputs": [],
   "source": [
    "# Type your code here\n",
    "\n",
    "wave = \n",
    "\n",
    "ev = \n",
    "\n",
    "print('what you write here?',,'nm')"
   ]
  },
  {
   "cell_type": "markdown",
   "metadata": {},
   "source": [
    "<b>b.</b> What is the energy of a laser pointer that can emit 5mW of monochromatic green light (532nm)? "
   ]
  },
  {
   "cell_type": "code",
   "execution_count": null,
   "metadata": {},
   "outputs": [],
   "source": [
    "# Type your code here\n",
    "\n",
    "wave = \n",
    "\n",
    "ev = \n",
    "\n",
    "print('what you write here?',,'nm')"
   ]
  },
  {
   "cell_type": "markdown",
   "metadata": {},
   "source": [
    "<b>c.</b> What is the energy of a wavelength produced by a remote control? <i>\"The IR signal emitted by remote controls is often around 940 nm in wavelength\". </i> From [Geneva C](https://clickermart.com/blogs/news/what-is-the-wavelength-of-the-infrared-used-in-remote-controls/)"
   ]
  },
  {
   "cell_type": "code",
   "execution_count": null,
   "metadata": {},
   "outputs": [],
   "source": [
    "# Type your code here\n",
    "\n",
    "wave = \n",
    "\n",
    "ev = \n",
    "\n",
    "print('what you write here?',,'nm')"
   ]
  },
  {
   "cell_type": "markdown",
   "metadata": {},
   "source": [
    "<h3>7. Extra Exercises - Does NOT Count towards your grade</h3>"
   ]
  },
  {
   "cell_type": "markdown",
   "metadata": {},
   "source": [
    "<font size=\"4\"><b>I - </b></font><font size=\"3\">Create a program that asks the user to enter their name and their age. Print out a message addressed to them that tells them the year that they will turn 100 years old</font>"
   ]
  },
  {
   "cell_type": "markdown",
   "metadata": {},
   "source": [
    "<font size=\"4\"><b>II - </b></font><font size=\"3\">Ask the user for a number. Depending on whether the number is even or odd, print out an appropriate message to the user.<p>\n",
    "Hint: how does an even / odd number react differently when divided by 2?<p>\n",
    "\n",
    "Extras:<p>\n",
    "\n",
    "<ol type=\"|a|\">\n",
    "<li>If the number is a multiple of 4, print out a different message.</li>\n",
    "<li>Ask the user for two numbers: one number to check (call it num) and one number to divide by (check). If check divides evenly into num, tell that to the user. If not, print a different appropriate message.</li></font>"
   ]
  },
  {
   "cell_type": "markdown",
   "metadata": {},
   "source": [
    "<font size=\"4\"><b>III - </b></font><font size=\"3\"> Run the code below and try to understand what is going on. <p>\n",
    "What does <b>\"def\"</b> stands for? </font>"
   ]
  },
  {
   "cell_type": "code",
   "execution_count": 90,
   "metadata": {},
   "outputs": [
    {
     "name": "stdout",
     "output_type": "stream",
     "text": [
      "Enter an example for animal: l\n",
      "Enter an example for food: s\n",
      "Enter an example for city: s\n",
      "                                        \n",
      "Once upon a time, deep in an ancient jungle,             \n",
      "there lived a l.  This l                   \n",
      "liked to eat s, but the jungle had                  \n",
      "very little s to offer.  One day, an               \n",
      "explorer found the l and discovered              \n",
      "it liked s.  The explorer took the                 \n",
      "l back to s, where it could                 \n",
      "eat as much s as it wanted.  However,              \n",
      "the l became homesick, so the                    \n",
      "explorer brought it back to the jungle,                 \n",
      "leaving a large supply of s.                       \n",
      "                                                        \n",
      "The End                                                 \n",
      "\n",
      "Press Enter to end the program.\n"
     ]
    },
    {
     "data": {
      "text/plain": [
       "''"
      ]
     },
     "execution_count": 90,
     "metadata": {},
     "output_type": "execute_result"
    }
   ],
   "source": [
    "# Code from Hands-on Python Tutorial                              \n",
    "'''                                                      \n",
    "String Substitution for a Mad Lib                        \n",
    "Adapted from code by Kirby Urner                         \n",
    "'''                                                      \n",
    "                                                         \n",
    "storyFormat = '''                                        \n",
    "Once upon a time, deep in an ancient jungle,             \n",
    "there lived a {animal}.  This {animal}                   \n",
    "liked to eat {food}, but the jungle had                  \n",
    "very little {food} to offer.  One day, an               \n",
    "explorer found the {animal} and discovered              \n",
    "it liked {food}.  The explorer took the                 \n",
    "{animal} back to {city}, where it could                 \n",
    "eat as much {food} as it wanted.  However,              \n",
    "the {animal} became homesick, so the                    \n",
    "explorer brought it back to the jungle,                 \n",
    "leaving a large supply of {food}.                       \n",
    "                                                        \n",
    "The End                                                 \n",
    "'''                                                     \n",
    "                                                        \n",
    "def tellStory():                                        \n",
    "    userPicks = dict()                                  \n",
    "    addPick('animal', userPicks)                        \n",
    "    addPick('food', userPicks)                          \n",
    "    addPick('city', userPicks)                          \n",
    "    story = storyFormat.format(**userPicks)             \n",
    "    print(story)                                        \n",
    "                                                        \n",
    "def addPick(cue, dictionary):                           \n",
    "    '''Prompt for a user response using the cue string, \n",
    "    and place the cue-response pair in the dictionary.  \n",
    "    '''                                                 \n",
    "    prompt = 'Enter an example for ' + cue + ': '       \n",
    "    response = input(prompt)                            \n",
    "    dictionary[cue] = response                          \n",
    "                                                        \n",
    "tellStory()                                             \n",
    "input('Press Enter to end the program.') "
   ]
  },
  {
   "cell_type": "markdown",
   "metadata": {},
   "source": [
    "<font size=\"4\"><b>IV - </b></font><font size=\"3\"> Read \"Hands-on Python Tutorial\" until ate least item <b>1.11</b>  </font>"
   ]
  }
 ],
 "metadata": {
  "kernelspec": {
   "display_name": "Python 3",
   "language": "python",
   "name": "python3"
  },
  "language_info": {
   "codemirror_mode": {
    "name": "ipython",
    "version": 3
   },
   "file_extension": ".py",
   "mimetype": "text/x-python",
   "name": "python",
   "nbconvert_exporter": "python",
   "pygments_lexer": "ipython3",
   "version": "3.8.5"
  }
 },
 "nbformat": 4,
 "nbformat_minor": 4
}
