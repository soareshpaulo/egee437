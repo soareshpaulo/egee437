{
 "cells": [
  {
   "cell_type": "markdown",
   "metadata": {},
   "source": [
    "<h1 align='center'> Very-Short Python Tutorial and Homework Template</h1><p>\n",
    "<h2 align='center'> To be used as a Python Intro for the PSU EGEE 437 Class </h2>\n",
    "<h3 align='center'> Paulo Soares </h3>\n",
    "<h4 align='center'> Original File: 2017. Updated on February, 2021 </h4>   "
   ]
  },
  {
   "cell_type": "markdown",
   "metadata": {},
   "source": [
    "<h3>0. Load Required Packages</h3>"
   ]
  },
  {
   "cell_type": "code",
   "execution_count": 1,
   "metadata": {},
   "outputs": [
    {
     "name": "stdout",
     "output_type": "stream",
     "text": [
      "Populating the interactive namespace from numpy and matplotlib\n",
      "3.8.5 (default, Sep  3 2020, 21:29:08) [MSC v.1916 64 bit (AMD64)]\n"
     ]
    }
   ],
   "source": [
    "import numpy as np # \"NumPy is the fundamental package for scientific computing with Python.\" np is how you call the package\n",
    "import matplotlib.pyplot as plt # \"Matplotlib is a Python 2D plotting library which produces publication quality figures...\"\n",
    "import scipy as sp #\"SciPy is a Python-based ecosystem of open-source software for mathematics, science, and engineering.\" \n",
    "import scipy.integrate as integrate\n",
    "import scipy.special as special\n",
    "import sys #Information about the system\n",
    "\n",
    "%pylab inline\n",
    "#Graphs are shown below the code cell instead in a new window.\n",
    "\n",
    "print(sys.version)"
   ]
  },
  {
   "cell_type": "code",
   "execution_count": 2,
   "metadata": {},
   "outputs": [],
   "source": [
    "## Here we're adjusting how we want our graphics to be displayed ##\n",
    "#\n",
    "#Matplotlib options\n",
    "from matplotlib.dates import DateFormatter\n",
    "plt.rcParams['figure.figsize'] = [16.0, 8.0]\n",
    "plt.rcParams['figure.dpi'] = 100\n",
    "plt.rcParams['savefig.dpi'] = 300\n",
    "plt.rcParams['font.size'] = 24\n",
    "plt.rcParams['legend.fontsize'] = 'medium'\n",
    "plt.rcParams['figure.titlesize'] = 'large'"
   ]
  },
  {
   "cell_type": "markdown",
   "metadata": {},
   "source": [
    "<h2 align='center'> Tutorial: Functions, Graphs, and Loops in Python</h2>"
   ]
  },
  {
   "cell_type": "markdown",
   "metadata": {},
   "source": [
    "<font face=\"Courier\" color=\"green\" size=\"4\"><b>References</b><p>\n",
    "http://anh.cs.luc.edu//python/hands-on/3.1/handsonHtml/index.html#<p>\n",
    "\n",
    "\n",
    "Hint: To run a cell hit SHIFT+ENTER"
   ]
  },
  {
   "cell_type": "markdown",
   "metadata": {},
   "source": [
    "<h3> 1. Creating Your Own Functions </h3><p>\n",
    "\n",
    "From (https://www.tutorialspoint.com/python/python_functions.htm)\n",
    "\n",
    "A function is a block of organized, reusable code that is used to perform a single, related action. Functions provide better modularity for your application and a high degree of code reusing.<p>\n",
    "\n",
    "As you already know, Python gives you many built-in functions like <i>print()</i>, etc. but you can also create your own functions. These functions are called user-defined functions.<p>\n",
    "\n",
    "<b>Defining a Function</b><p>\n",
    "<ul>\n",
    "<li>You can define functions to provide the required functionality. Here are simple rules to define a function in Python.</li>\n",
    "\n",
    "<li>Function blocks begin with the keyword <b>def</b> followed by the function name and parentheses ( ( ) ).</li>\n",
    "\n",
    "<li>Any input parameters or arguments should be placed within these parentheses. You can also define parameters inside these parentheses.</li>\n",
    "\n",
    "<li>The first statement of a function can be an optional statement - the documentation string of the function or docstring.</li>\n",
    "\n",
    "<li>The code block within every function starts with a colon (:) and is indented.</li>\n",
    "\n",
    "<li>The statement return [expression] exits a function, optionally passing back an expression to the caller. A return statement with no arguments is the same as return None </li> \n",
    "</ul>\n",
    "<p>\n",
    "Check:"
   ]
  },
  {
   "cell_type": "code",
   "execution_count": 3,
   "metadata": {},
   "outputs": [],
   "source": [
    "#Example of a simple function:\n",
    "\n",
    "def happyBirthday(person):\n",
    "    print(\"Happy Birthday to you!\")\n",
    "    print(\"Happy Birthday to you!\")\n",
    "    print(\"Happy Birthday, dear \" + person + \"!\")\n",
    "    print(\"Happy Birthday to you!\")"
   ]
  },
  {
   "cell_type": "code",
   "execution_count": 4,
   "metadata": {},
   "outputs": [
    {
     "name": "stdout",
     "output_type": "stream",
     "text": [
      "Happy Birthday to you!\n",
      "Happy Birthday to you!\n",
      "Happy Birthday, dear Judith Butler!\n",
      "Happy Birthday to you!\n"
     ]
    }
   ],
   "source": [
    "# To call the function:\n",
    "happyBirthday('Judith Butler')"
   ]
  },
  {
   "cell_type": "markdown",
   "metadata": {},
   "source": [
    "<b>Note:</b><p>\n",
    "<i>Judith Pamela Butler is an American philosopher and gender theorist whose work has influenced political philosophy, ethics, and the fields of third-wave feminist, queer, and literary theory (https://en.wikipedia.org/wiki/Judith_Butler).</i>"
   ]
  },
  {
   "cell_type": "code",
   "execution_count": 5,
   "metadata": {},
   "outputs": [],
   "source": [
    "#Now let's create another function and call it \"main\":\n",
    "def main():\n",
    "    userName = input(\"Enter the Birthday person's name: \")\n",
    "    happyBirthday(userName)"
   ]
  },
  {
   "cell_type": "code",
   "execution_count": 8,
   "metadata": {},
   "outputs": [
    {
     "name": "stdin",
     "output_type": "stream",
     "text": [
      "Enter the Birthday person's name:  Nobody\n"
     ]
    },
    {
     "name": "stdout",
     "output_type": "stream",
     "text": [
      "Happy Birthday to you!\n",
      "Happy Birthday to you!\n",
      "Happy Birthday, dear Nobody!\n",
      "Happy Birthday to you!\n"
     ]
    }
   ],
   "source": [
    "main()"
   ]
  },
  {
   "cell_type": "code",
   "execution_count": 9,
   "metadata": {},
   "outputs": [
    {
     "name": "stdout",
     "output_type": "stream",
     "text": [
      "When does this print?\n"
     ]
    }
   ],
   "source": [
    "#Careful with the identation!\n",
    "\n",
    "def f():\n",
    "    print('In function f')\n",
    "print('When does this print?')"
   ]
  },
  {
   "cell_type": "code",
   "execution_count": 10,
   "metadata": {},
   "outputs": [],
   "source": [
    "#Careful with the identation!\n",
    "\n",
    "def g():\n",
    "    print('In function f')\n",
    "    print('When does this print?')"
   ]
  },
  {
   "cell_type": "code",
   "execution_count": 11,
   "metadata": {},
   "outputs": [
    {
     "name": "stdout",
     "output_type": "stream",
     "text": [
      "In function f\n"
     ]
    }
   ],
   "source": [
    "#Careful with the identation... here's one of the reasons why!\n",
    "\n",
    "f()"
   ]
  },
  {
   "cell_type": "code",
   "execution_count": 12,
   "metadata": {
    "scrolled": true
   },
   "outputs": [
    {
     "name": "stdout",
     "output_type": "stream",
     "text": [
      "In function f\n",
      "When does this print?\n"
     ]
    }
   ],
   "source": [
    "g()"
   ]
  },
  {
   "cell_type": "markdown",
   "metadata": {},
   "source": [
    "<h3> 2. Graphs in Python </h3><p>"
   ]
  },
  {
   "cell_type": "code",
   "execution_count": 25,
   "metadata": {},
   "outputs": [
    {
     "data": {
      "image/png": "[encoded data removed]",
      "text/plain": [
       "<Figure size 1600x800 with 1 Axes>"
      ]
     },
     "metadata": {
      "needs_background": "light"
     },
     "output_type": "display_data"
    }
   ],
   "source": [
    "# x and y values \n",
    "x = np.arange(0, 361, 1)\n",
    "y = np.sin(np.radians(x))\n",
    "  \n",
    "# plotting the points  \n",
    "plt.plot(x, y) \n",
    "\n",
    "# Labeling the x and y axis\n",
    "plt.xlabel(\"angle (degrees)\")\n",
    "plt.ylabel(\"sin (angle)\")\n",
    "\n",
    "# Giving the graph a title\n",
    "plt.title('Sinus wave')\n",
    "  \n",
    "# function to show the plot \n",
    "plt.show()"
   ]
  },
  {
   "cell_type": "markdown",
   "metadata": {},
   "source": [
    "<h3> 3. Loooooooops!!! </h3><p>"
   ]
  },
  {
   "cell_type": "code",
   "execution_count": 26,
   "metadata": {},
   "outputs": [
    {
     "data": {
      "text/plain": [
       "range(0, 4)"
      ]
     },
     "execution_count": 26,
     "metadata": {},
     "output_type": "execute_result"
    }
   ],
   "source": [
    "range(4)"
   ]
  },
  {
   "cell_type": "code",
   "execution_count": 27,
   "metadata": {},
   "outputs": [
    {
     "data": {
      "text/plain": [
       "[0, 1, 2, 3]"
      ]
     },
     "execution_count": 27,
     "metadata": {},
     "output_type": "execute_result"
    }
   ],
   "source": [
    "list(range(4))"
   ]
  },
  {
   "cell_type": "code",
   "execution_count": 28,
   "metadata": {},
   "outputs": [
    {
     "name": "stdout",
     "output_type": "stream",
     "text": [
      "Hello\n",
      "Hello\n",
      "Hello\n",
      "Hello\n",
      "Hello\n",
      "Hello\n",
      "Hello\n",
      "Hello\n",
      "Hello\n",
      "Hello\n"
     ]
    }
   ],
   "source": [
    "for i in range(10):\n",
    "    print('Hello')"
   ]
  },
  {
   "cell_type": "code",
   "execution_count": 29,
   "metadata": {},
   "outputs": [
    {
     "name": "stdout",
     "output_type": "stream",
     "text": [
      "1\n",
      "Yes\n",
      "2\n",
      "YesYes\n",
      "3\n",
      "YesYesYes\n",
      "Done counting.\n",
      "red\n",
      "blue\n",
      "green\n"
     ]
    }
   ],
   "source": [
    "for count in [1, 2, 3]:\n",
    "    print(count)\n",
    "    print('Yes' * count)\n",
    "print('Done counting.') #ident to mess\n",
    "for color in ['red', 'blue', 'green']:\n",
    "    print(color)"
   ]
  },
  {
   "cell_type": "code",
   "execution_count": 30,
   "metadata": {},
   "outputs": [
    {
     "name": "stdout",
     "output_type": "stream",
     "text": [
      "40\n"
     ]
    }
   ],
   "source": [
    "def m(x):   # mathematical function m \n",
    "    return 5*x               \n",
    " \n",
    "y = 3                         \n",
    "print(m(y) + m(2*y-1))      "
   ]
  },
  {
   "cell_type": "markdown",
   "metadata": {},
   "source": [
    "<h2 align='center'> Homework #2</h2>"
   ]
  },
  {
   "cell_type": "code",
   "execution_count": 18,
   "metadata": {},
   "outputs": [],
   "source": [
    "# Defining trigonometric functions - Used in problem 4 and 5\n",
    "\n",
    "def cosd(x):\n",
    "    return cos(radians(x))\n",
    "  \n",
    "def sind(x):\n",
    "    return sin(radians(x))\n",
    "  \n",
    "def tand(x):\n",
    "    return tan(radians(x))\n",
    "  \n",
    "def acosd(x):\n",
    "    return degrees(np.arccos(x))\n",
    "  \n",
    "def asind(x):\n",
    "    return degrees(np.arcsin(x))\n",
    "  \n",
    "def atand(x):\n",
    "    return degrees(np.arctan(x))"
   ]
  },
  {
   "cell_type": "markdown",
   "metadata": {},
   "source": [
    "## Problem 1"
   ]
  },
  {
   "cell_type": "markdown",
   "metadata": {},
   "source": [
    "<font size=\"3\">Write down a code to calculate blackbody fractions by numerical approximation. You will use this script in the next question.</font> <p>\n",
    "    <b>DO NOT FORGET TO COPY YOUR CODE TO THE OVERLEAF FILE!</b>"
   ]
  },
  {
   "cell_type": "markdown",
   "metadata": {},
   "source": [
    "### Answers "
   ]
  },
  {
   "cell_type": "code",
   "execution_count": 6,
   "metadata": {},
   "outputs": [],
   "source": [
    "### Inputs ###\n",
    "# Approximation of blackbody table using nm inputs instead of micrometer inputs:\n",
    "T = 5777 # blackbody temperature\n",
    "h = 6.625e-34 # Planck Constant (J*s)\n",
    "c = 2.998e17 # Speed of light (nm/s)\n",
    "k = 1.381e-23 # Boltzmann constant J/K\n",
    "lambda_nm = 2500 # Enter the wavelength manually \n",
    "\n",
    "# Needed function gamma (or x):\n",
    "C2nm = h*c/k\n",
    "gamma = C2nm/(lambda_nm*T)\n",
    "\n",
    "# Now code down your numerical approximation. Tip: See SECS Chapter 3 - Laws of light.\n"
   ]
  },
  {
   "cell_type": "markdown",
   "metadata": {},
   "source": [
    "## Problem 2"
   ]
  },
  {
   "cell_type": "markdown",
   "metadata": {},
   "source": [
    "<font size=\"3\">\n",
    "The human body has a surface area of $\\sim 2\\ m^2$, and the surface temperature of bare skin is 32$^\\circ$C (The area of the human body is presented just as a cool information, you won't use it to solve the following items. However, you MUST be careful with units ($\\mu m$ and $\\eta m$)).\n",
    "<ol type=\"a\">\n",
    "\t<li> Given the emissivity of the human body is $\\epsilon = 0.97$, what is our radiant exitance (or radiance integrated across all angles) in $W/m^2$? </li>\n",
    "\t<li> Now evaluate the fraction of greybody radiant exitance from humans that will pass through the \"sky window\" from 8-14 $\\mu m$. </li>\n",
    "    <li> Present the exitance value in $W/m^2$. </li>\n",
    "</ol>\n",
    "</font>"
   ]
  },
  {
   "cell_type": "markdown",
   "metadata": {},
   "source": [
    "### Answers "
   ]
  },
  {
   "cell_type": "markdown",
   "metadata": {},
   "source": [
    "<font face=\"sans-serif\" size=\"3\"><b> 1. </b></font>     <b>DO NOT FORGET TO COPY YOUR CODE TO THE OVERLEAF FILE!</b>"
   ]
  },
  {
   "cell_type": "code",
   "execution_count": 32,
   "metadata": {},
   "outputs": [
    {
     "ename": "SyntaxError",
     "evalue": "invalid syntax (<ipython-input-32-5f6b0d4e1993>, line 7)",
     "output_type": "error",
     "traceback": [
      "\u001b[1;36m  File \u001b[1;32m\"<ipython-input-32-5f6b0d4e1993>\"\u001b[1;36m, line \u001b[1;32m7\u001b[0m\n\u001b[1;33m    b=e-8e\u001b[0m\n\u001b[1;37m         ^\u001b[0m\n\u001b[1;31mSyntaxError\u001b[0m\u001b[1;31m:\u001b[0m invalid syntax\n"
     ]
    }
   ],
   "source": [
    "## Inputs ##\n",
    "e = 0.97 # emittance value\n",
    "sig = 5.6697e-8 # Stefan–Boltzmann Constant\n",
    "# Temp = (Temp_Celsius+273.15) # Code here the correction of temperature (remove the first #). Obs: Kelvin is what you need! \n",
    "\n",
    "# Hint: Stefan-Boltzmann\n"
   ]
  },
  {
   "cell_type": "markdown",
   "metadata": {},
   "source": [
    "<font face=\"sans-serif\" size=\"3\"><b> 2. </b></font>    <b>DO NOT FORGET TO COPY YOUR CODE TO THE OVERLEAF FILE!</b>"
   ]
  },
  {
   "cell_type": "code",
   "execution_count": 31,
   "metadata": {},
   "outputs": [
    {
     "data": {
      "text/plain": [
       "1"
      ]
     },
     "execution_count": 31,
     "metadata": {},
     "output_type": "execute_result"
    }
   ],
   "source": [
    "# Use the script you coded in problem 1 to find out the fractions for 8 nm and 14 nm...\n",
    "# Smart tip: code the fraction as a function, then you use this function in the next item, like the example below:\n",
    "\n",
    "f = 8*10-79\n",
    "f\n"
   ]
  },
  {
   "cell_type": "markdown",
   "metadata": {},
   "source": [
    "<font face=\"sans-serif\" size=\"3\"><b> 3. </b></font>    <b>DO NOT FORGET TO COPY YOUR CODE TO THE OVERLEAF FILE!</b>"
   ]
  },
  {
   "cell_type": "code",
   "execution_count": 9,
   "metadata": {},
   "outputs": [
    {
     "data": {
      "text/plain": [
       "1"
      ]
     },
     "execution_count": 9,
     "metadata": {},
     "output_type": "execute_result"
    }
   ],
   "source": [
    "# Remember the smart tip? now modify the exit function including the function you coded before!\n",
    "exit = f\n",
    "exit\n"
   ]
  },
  {
   "cell_type": "markdown",
   "metadata": {},
   "source": [
    "## Problem 3"
   ]
  },
  {
   "cell_type": "markdown",
   "metadata": {},
   "source": [
    "<font size=\"3\">\n",
    "<ol type=\"a\">\n",
    "\t<li> Using the value for the photosphere surface temperature what fraction of extraterrestrial irradiance is found for $\\lambda < 780\\ nm$? </li>\n",
    "\t<li> What fraction is found for $\\lambda < 3000\\ nm$? </li>\n",
    "\t<li> What fraction is found between $780\\ nm < \\lambda < 3000\\ nm$ (the IR sub-band of extraterrestrial shortwave irradiance) </li>\n",
    "</ol>\n",
    "</font>"
   ]
  },
  {
   "cell_type": "markdown",
   "metadata": {},
   "source": [
    "### Answers "
   ]
  },
  {
   "cell_type": "markdown",
   "metadata": {},
   "source": [
    "<font face=\"sans-serif\" size=\"3\"><b> 1. </b></font>    <b>DO NOT FORGET TO COPY YOUR CODE TO THE OVERLEAF FILE!</b>"
   ]
  },
  {
   "cell_type": "code",
   "execution_count": 12,
   "metadata": {
    "collapsed": true,
    "jupyter": {
     "outputs_hidden": true
    }
   },
   "outputs": [],
   "source": [
    "# HINT: once again use the script you coded in Problem 1."
   ]
  },
  {
   "cell_type": "markdown",
   "metadata": {},
   "source": [
    "<font face=\"sans-serif\" size=\"3\"><b> 2. </b></font>    <b>DO NOT FORGET TO COPY YOUR CODE TO THE OVERLEAF FILE!</b>"
   ]
  },
  {
   "cell_type": "code",
   "execution_count": 13,
   "metadata": {
    "collapsed": true,
    "jupyter": {
     "outputs_hidden": true
    }
   },
   "outputs": [],
   "source": [
    "# Tip: once gain use the script you coded in the item 1."
   ]
  },
  {
   "cell_type": "markdown",
   "metadata": {},
   "source": [
    "<font face=\"sans-serif\" size=\"3\"><b> 3. </b></font>    <b>DO NOT FORGET TO COPY YOUR CODE TO THE OVERLEAF FILE!</b>"
   ]
  },
  {
   "cell_type": "code",
   "execution_count": 33,
   "metadata": {},
   "outputs": [],
   "source": [
    "# Tip: once gain use the script you coded in the item 1."
   ]
  },
  {
   "cell_type": "markdown",
   "metadata": {},
   "source": [
    "## Problem 4"
   ]
  },
  {
   "cell_type": "markdown",
   "metadata": {},
   "source": [
    "<font size=\"3\">\n",
    "Plot the Planck spectrum (Bose-Einstein Distributions) of the Sun as a blackbody at the photosphere, and provide the integrated irradiance (area under the curve). Compare your results to value offered in the preceding problem. [Your plot may have bounds from 200 nm to 50,000 nm]\n",
    "</font> <p>\n",
    "        <b>DO NOT FORGET TO COPY YOUR CODE TO THE OVERLEAF FILE!</b>"
   ]
  },
  {
   "cell_type": "code",
   "execution_count": null,
   "metadata": {},
   "outputs": [],
   "source": [
    "## Hint 0: You'll use this code to answer questions 4 and 5.\n",
    "\n",
    "## Inputs - sigma was previously defined, remember?\n",
    "C1=(3.742e8); # in units of W micrometer/m2 \n",
    "C2=(1.4384e4); # in units of micrometer*K\n",
    "\n",
    "## HINT 1: Create a column of lambda values, steps of 0.05 micrometers from lowerLimit to upperLimit, like function L below:\n",
    "l=np.arange(0,1,0.1) # this creates a list of numbers from zero to one (one is not included), in increments of 0.1. \n",
    "\n",
    "lT=l*T # multiplying the vector L by a constant T (temperature of the blackbody)\n",
    "\n",
    "## HINT2: integrate the fraction of the spectral energy (write - code - the equation) and then integrate it [Eq. 3.10 of SECS]:\n",
    "integrand = 1/lT #change this! \n",
    "\n",
    "fract = (integrate.trapz(integrand, lT)) \n",
    "\n",
    "# now apply the Stefan-Boltzman law [Eq. 3.7 of SECS]. \n",
    "#Note: you will find that your units should be in W/m2. Call it \"int_power\".\n",
    "\n",
    "int_power = 1 #change this\n",
    "\n",
    "# HINT 3: the last thing you need to do is to calculate the spectral emissive power for the shortwave (call it \"spL) \n",
    "#and longwave bands (call it \"spH). Also for the total emissive power (call it \"spT). \n",
    "\n",
    "spL = 1 #Use eq. 3.10 again with the lower bound for light\n",
    "spH = 1 #Use eq. 3.10 again with the upper bound for light\n",
    "\n",
    "spT = 2*lT #Use eq. 3.10 again but this time leave it as a function of wavelength and temperature\n",
    "\n",
    "## The following lines generate the desired plot\n",
    "fig, ax = plt.subplots()\n",
    "ax.plot(l, spT, '-b', linewidth=2.0) # Tells Python to plot spT in respect to l, -b = blue line, linewidth is linewidth - feel free to change the width if you want. \n",
    "ax.set_xlabel('Wavelength' r'$(\\mu m)$') # self explanatory\n",
    "ax.set_ylabel('Power Density' r'$(W/m^2\\cdot \\mu m)$') # self explanatory\n",
    "ax.set_title('Spectrum of the Sun at the Surface') # The title of the graph\n",
    "#ax.set_xlim(0,2.5) # Uncomment in case you need to change the limits of the x axis\n",
    "#ax.set_ylim(0,1500) # Uncomment in case you need to change the limits of the y axis\n",
    "plt.grid()\n",
    "plt.savefig('prob_Planck.jpeg')\n",
    "\n",
    "# Final answer should look like this:\n",
    "print(\"Higher Spectral Emissive Power of a Blackbody:\", spL, \"Lower Spectral Emissive Power:\", spH, \".Integrated Power:\", int_power, \".Fraction:\", fract)"
   ]
  },
  {
   "cell_type": "markdown",
   "metadata": {},
   "source": [
    "## Problem 5"
   ]
  },
  {
   "cell_type": "markdown",
   "metadata": {},
   "source": [
    "<font size=\"3\">\n",
    "Plot the spectrum of the atmosphere (the radiant exitance or glow), given an effective isotropic average temperature of 255 K. \n",
    "Where does the most probable wavelength seem to occur (by observation)?  \n",
    "Explain why the bounds of plotting are significantly different from those of incoming shortwave solar irradiance. [Your plot may have bounds from 2,500 nm to 50,000 nm]\n",
    "</font>"
   ]
  },
  {
   "cell_type": "code",
   "execution_count": null,
   "metadata": {},
   "outputs": [],
   "source": []
  }
 ],
 "metadata": {
  "kernelspec": {
   "display_name": "Python 3",
   "language": "python",
   "name": "python3"
  },
  "language_info": {
   "codemirror_mode": {
    "name": "ipython",
    "version": 3
   },
   "file_extension": ".py",
   "mimetype": "text/x-python",
   "name": "python",
   "nbconvert_exporter": "python",
   "pygments_lexer": "ipython3",
   "version": "3.8.5"
  }
 },
 "nbformat": 4,
 "nbformat_minor": 4
}
